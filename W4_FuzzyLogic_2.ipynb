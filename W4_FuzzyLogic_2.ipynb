{
  "nbformat": 4,
  "nbformat_minor": 0,
  "metadata": {
    "colab": {
      "provenance": [],
      "authorship_tag": "ABX9TyOD55l9ge431j6T2IfR4WwF",
      "include_colab_link": true
    },
    "kernelspec": {
      "name": "python3",
      "display_name": "Python 3"
    },
    "language_info": {
      "name": "python"
    }
  },
  "cells": [
    {
      "cell_type": "markdown",
      "metadata": {
        "id": "view-in-github",
        "colab_type": "text"
      },
      "source": [
        "<a href=\"https://colab.research.google.com/github/LTPDat/AI/blob/main/W4_FuzzyLogic_2.ipynb\" target=\"_parent\"><img src=\"https://colab.research.google.com/assets/colab-badge.svg\" alt=\"Open In Colab\"/></a>"
      ]
    },
    {
      "cell_type": "code",
      "execution_count": 2,
      "metadata": {
        "colab": {
          "base_uri": "https://localhost:8080/"
        },
        "id": "JEnJVyf9gPLq",
        "outputId": "16938f6f-fc4b-43a6-80b3-56b587aa6368"
      },
      "outputs": [
        {
          "output_type": "stream",
          "name": "stdout",
          "text": [
            "Looking in indexes: https://pypi.org/simple, https://us-python.pkg.dev/colab-wheels/public/simple/\n",
            "Collecting scikit-fuzzy\n",
            "  Downloading scikit-fuzzy-0.4.2.tar.gz (993 kB)\n",
            "\u001b[2K     \u001b[90m━━━━━━━━━━━━━━━━━━━━━━━━━━━━━━━━━━━━━━\u001b[0m \u001b[32m994.0/994.0 KB\u001b[0m \u001b[31m19.7 MB/s\u001b[0m eta \u001b[36m0:00:00\u001b[0m\n",
            "\u001b[?25h  Preparing metadata (setup.py) ... \u001b[?25l\u001b[?25hdone\n",
            "Requirement already satisfied: numpy>=1.6.0 in /usr/local/lib/python3.8/dist-packages (from scikit-fuzzy) (1.22.4)\n",
            "Requirement already satisfied: scipy>=0.9.0 in /usr/local/lib/python3.8/dist-packages (from scikit-fuzzy) (1.10.1)\n",
            "Requirement already satisfied: networkx>=1.9.0 in /usr/local/lib/python3.8/dist-packages (from scikit-fuzzy) (3.0)\n",
            "Building wheels for collected packages: scikit-fuzzy\n",
            "  Building wheel for scikit-fuzzy (setup.py) ... \u001b[?25l\u001b[?25hdone\n",
            "  Created wheel for scikit-fuzzy: filename=scikit_fuzzy-0.4.2-py3-none-any.whl size=894088 sha256=edd3a58efc58248305c1f097cbcf5dfb11e52bc108bcd092743e608966399f47\n",
            "  Stored in directory: /root/.cache/pip/wheels/2c/04/80/7eefb1a2de7d36aefd06432fab2a1486caf0a0596a7067391a\n",
            "Successfully built scikit-fuzzy\n",
            "Installing collected packages: scikit-fuzzy\n",
            "Successfully installed scikit-fuzzy-0.4.2\n"
          ]
        }
      ],
      "source": [
        "pip install scikit-fuzzy"
      ]
    },
    {
      "cell_type": "code",
      "source": [
        "import numpy as np\n",
        "import skfuzzy as fuzz\n",
        "import matplotlib.pyplot as plt\n",
        "from skfuzzy import control as ctrl"
      ],
      "metadata": {
        "id": "i5U1Plqqgkc1"
      },
      "execution_count": 3,
      "outputs": []
    },
    {
      "cell_type": "code",
      "source": [
        "#----------------------------------------------------Điều khiển nhiệt độ----------------------------------------------------#"
      ],
      "metadata": {
        "id": "DepalYS5tWyA"
      },
      "execution_count": 36,
      "outputs": []
    },
    {
      "cell_type": "code",
      "source": [
        "# Antecedents\n",
        "sp = ctrl.Antecedent(np.arange(12, 32.5, 0.5), 'sp')\n",
        "sensor = ctrl.Antecedent(np.arange(-3, 60.5, 0.5), 'sensor')\n",
        "\n",
        "# Consequents\n",
        "pwm = ctrl.Consequent(np.arange(0, 256, 1), 'pwm')"
      ],
      "metadata": {
        "id": "dDgKRvCIhsxT"
      },
      "execution_count": 10,
      "outputs": []
    },
    {
      "cell_type": "code",
      "source": [
        "#Các hàm liên thuộc\n",
        "sp['l'] = fuzz.trimf(sp.universe, [12,12,22])\n",
        "sp['m'] = fuzz.trimf(sp.universe, [12,22,32])\n",
        "sp['h'] = fuzz.trimf(sp.universe, [22,32,32])\n",
        "#sp.view()\n",
        "\n",
        "sensor['vl'] = fuzz.trimf(sensor.universe, [-3,-3,31.5])\n",
        "sensor['l'] = fuzz.trimf(sensor.universe, [-3,15.75,31.5])\n",
        "sensor['m'] = fuzz.trimf(sensor.universe, [15.75,31.5,47.25])\n",
        "sensor['h'] = fuzz.trimf(sensor.universe, [31.5,47.25,60])\n",
        "sensor['vh'] = fuzz.trimf(sensor.universe, [47.25,60,60])\n",
        "#sensor.view()\n",
        "\n",
        "pwm['vl'] = fuzz.trimf(pwm.universe, [0,0,255/4])\n",
        "pwm['l'] = fuzz.trimf(pwm.universe, [0,255/4,255/2])\n",
        "pwm['m'] = fuzz.trimf(pwm.universe, [0,255/2,255])\n",
        "pwm['h'] = fuzz.trimf(pwm.universe, [255/2,191.25,255])\n",
        "pwm['vh'] = fuzz.trimf(pwm.universe, [255/2,255,255])\n",
        "#pwm.view()"
      ],
      "metadata": {
        "id": "20N7I6EWkeNX"
      },
      "execution_count": 27,
      "outputs": []
    },
    {
      "cell_type": "code",
      "source": [
        "#Tạo luật\n",
        "rule1 = ctrl.Rule(sp['l']&sensor['vl'], pwm['vl'])\n",
        "rule2 = ctrl.Rule(sp['l']&sensor['l'], pwm['l'])\n",
        "rule3 = ctrl.Rule(sp['l']&sensor['m'], pwm['m'])\n",
        "rule4 = ctrl.Rule(sp['l']&sensor['h'], pwm['h'])\n",
        "rule5 = ctrl.Rule(sp['l']&sensor['vh'], pwm['vh'])\n",
        "\n",
        "rule6 = ctrl.Rule(sp['m']&sensor['vl'], pwm['vl'])\n",
        "rule7 = ctrl.Rule(sp['m']&sensor['l'], pwm['l'])\n",
        "rule8 = ctrl.Rule(sp['m']&sensor['m'], pwm['m'])\n",
        "rule9 = ctrl.Rule(sp['m']&sensor['h'], pwm['h'])\n",
        "rule10 = ctrl.Rule(sp['m']&sensor['vh'], pwm['vh'])\n",
        "\n",
        "rule11 = ctrl.Rule(sp['h']&sensor['vl'], pwm['vl'])\n",
        "rule12 = ctrl.Rule(sp['h']&sensor['l'], pwm['l'])\n",
        "rule13 = ctrl.Rule(sp['h']&sensor['m'], pwm['m'])\n",
        "rule14 = ctrl.Rule(sp['h']&sensor['h'], pwm['h'])\n",
        "rule15 = ctrl.Rule(sp['h']&sensor['vh'], pwm['vh'])\n",
        "\n",
        "#Học các rule\n",
        "pwm_control = ctrl.ControlSystem([rule1,rule2,rule3,rule4,rule5,rule6,rule7,rule8,rule9,rule10,rule11,rule12,rule13,rule14,rule15])"
      ],
      "metadata": {
        "id": "qcifTGzpn-fD"
      },
      "execution_count": 40,
      "outputs": []
    },
    {
      "cell_type": "code",
      "source": [
        "#Simulation\n",
        "pwm_simulation = ctrl.ControlSystemSimulation(pwm_control)\n",
        "pwm_simulation.input['sp'] = 12\n",
        "pwm_simulation.input['sensor'] = 60\n",
        "pwm_simulation.compute()\n",
        "print(pwm_simulation.output['pwm'])\n",
        "pwm.view(sim=pwm_simulation)"
      ],
      "metadata": {
        "colab": {
          "base_uri": "https://localhost:8080/",
          "height": 299
        },
        "id": "moqeB41QqZBT",
        "outputId": "d694ca98-1202-4044-ff03-a7c46e0bc1b2"
      },
      "execution_count": 42,
      "outputs": [
        {
          "output_type": "stream",
          "name": "stdout",
          "text": [
            "212.49869283056037\n"
          ]
        },
        {
          "output_type": "display_data",
          "data": {
            "text/plain": [
              "<Figure size 432x288 with 1 Axes>"
            ],
            "image/png": "[encoded data removed]"
          },
          "metadata": {
            "needs_background": "light"
          }
        }
      ]
    },
    {
      "cell_type": "code",
      "source": [
        "#----------------------------------------------------Điều khiển Mobile Robot----------------------------------------------------#"
      ],
      "metadata": {
        "id": "85threw8tUYa"
      },
      "execution_count": 37,
      "outputs": []
    },
    {
      "cell_type": "code",
      "source": [
        "#Khai báo in/out\n",
        "sensor1 = ctrl.Antecedent(np.arange(5,50.1,0.1), 'sensor1')\n",
        "sensor2 = ctrl.Antecedent(np.arange(5,50.1,0.1), 'sensor2')\n",
        "sensor3 = ctrl.Antecedent(np.arange(5,50.1,0.1), 'sensor3')\n",
        "\n",
        "pwm1 = ctrl.Consequent(np.arange(0,255,1),'pwm1')\n",
        "pwm2 = ctrl.Consequent(np.arange(0,255,1),'pwm2')"
      ],
      "metadata": {
        "id": "BdX23ZCTteQa"
      },
      "execution_count": 44,
      "outputs": []
    },
    {
      "cell_type": "code",
      "source": [
        "#Các hàm liên thuộc\n",
        "sensor1['RG'] = fuzz.trimf(sensor1.universe, [5,5,15])\n",
        "sensor1['G'] = fuzz.trimf(sensor1.universe, [5,15,30])\n",
        "sensor1['TB'] = fuzz.trimf(sensor1.universe, [15,30,40])\n",
        "sensor1['X'] = fuzz.trimf(sensor1.universe, [30,40,50])\n",
        "sensor1['RX'] = fuzz.trimf(sensor1.universe, [40,50,50])\n",
        "#sensor1.view()\n",
        "\n",
        "sensor2['RG'] = fuzz.trimf(sensor1.universe, [5,5,15])\n",
        "sensor2['G'] = fuzz.trimf(sensor1.universe, [5,15,30])\n",
        "sensor2['TB'] = fuzz.trimf(sensor1.universe, [15,30,40])\n",
        "sensor2['X'] = fuzz.trimf(sensor1.universe, [30,40,50])\n",
        "sensor2['RX'] = fuzz.trimf(sensor1.universe, [40,50,50])\n",
        "#sensor2.view()\n",
        "\n",
        "sensor3['RG'] = fuzz.trimf(sensor1.universe, [5,5,15])\n",
        "sensor3['G'] = fuzz.trimf(sensor1.universe, [5,15,30])\n",
        "sensor3['TB'] = fuzz.trimf(sensor1.universe, [15,30,40])\n",
        "sensor3['X'] = fuzz.trimf(sensor1.universe, [30,40,50])\n",
        "sensor3['RX'] = fuzz.trimf(sensor1.universe, [40,50,50])\n",
        "#sensor3.view()\n",
        "\n",
        "pwm1['vl'] = fuzz.trimf(pwm1.universe, [0,0,255/4])\n",
        "pwm1['l'] = fuzz.trimf(pwm1.universe, [0,255/4,255/2])\n",
        "pwm1['m'] = fuzz.trimf(pwm1.universe, [0,255/2,255])\n",
        "pwm1['h'] = fuzz.trimf(pwm1.universe, [255/2,191.25,255])\n",
        "pwm1['vh'] = fuzz.trimf(pwm1.universe, [255/2,255,255])\n",
        "\n",
        "pwm2['vl'] = fuzz.trimf(pwm2.universe, [0,0,255/4])\n",
        "pwm2['l'] = fuzz.trimf(pwm2.universe, [0,255/4,255/2])\n",
        "pwm2['m'] = fuzz.trimf(pwm2.universe, [0,255/2,255])\n",
        "pwm2['h'] = fuzz.trimf(pwm2.universe, [255/2,191.25,255])\n",
        "pwm2['vh'] = fuzz.trimf(pwm2.universe, [255/2,255,255])"
      ],
      "metadata": {
        "id": "LHssCvRt2zfZ"
      },
      "execution_count": 50,
      "outputs": []
    },
    {
      "cell_type": "code",
      "source": [
        "#Tạo luật\n",
        "#rule1 = ctrl.Rule(sensor1['RG']&sensor2['RG']&sensor3['RG'], pwm1['vl'])\n",
        "#rule1 = ctrl.Rule(sensor1['RG']&sensor2['RG']&sensor3['G'], pwm1['vl'])\n",
        "#rule1 = ctrl.Rule(sensor1['RG']&sensor2['RG']&sensor3['TB'], pwm1['vl'])\n",
        "#rule2 = ctrl.Rule(sensor1['RG']&sensor2['RG']&sensor3['RG'], pwm2['vl'])\n",
        "#pwm1_control = ctrl.ControlSystem([rule1,rule2])\n",
        "#pwm2_control = ctrl.ControlSystem([rule1,rule2])\n",
        "\n",
        "rule = []\n",
        "index = ['RG', 'G', 'TB', 'X', 'RX']\n",
        "tmp = ['vl','l','m','h','vh']\n",
        "count = 0\n",
        "for a in index:\n",
        "  for b in index:\n",
        "    for c in index:\n",
        "      rule.append(ctrl.Rule(sensor1[a]&sensor2[b]&sensor3[c], pwm1[tmp[count]]))\n",
        "      if (a=='G'):\n",
        "        count=1\n",
        "      if (a=='TB'):\n",
        "        count=2\n",
        "      if (a=='X'):\n",
        "        count=3\n",
        "      if (a=='RX'):\n",
        "        count=4"
      ],
      "metadata": {
        "id": "gJqOk9Am4IzF"
      },
      "execution_count": 75,
      "outputs": []
    },
    {
      "cell_type": "code",
      "source": [],
      "metadata": {
        "id": "h51hADdv8I61"
      },
      "execution_count": null,
      "outputs": []
    }
  ]
}