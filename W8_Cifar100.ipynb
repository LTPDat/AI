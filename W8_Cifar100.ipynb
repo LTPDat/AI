{
  "nbformat": 4,
  "nbformat_minor": 0,
  "metadata": {
    "colab": {
      "provenance": [],
      "mount_file_id": "1CG5sYniK9Cv5voFxuGi7bUs7nUQHdjT6",
      "authorship_tag": "ABX9TyOS5FSDICIOFCMH2HFOJZRJ",
      "include_colab_link": true
    },
    "kernelspec": {
      "name": "python3",
      "display_name": "Python 3"
    },
    "language_info": {
      "name": "python"
    }
  },
  "cells": [
    {
      "cell_type": "markdown",
      "metadata": {
        "id": "view-in-github",
        "colab_type": "text"
      },
      "source": [
        "<a href=\"https://colab.research.google.com/github/LTPDat/AI/blob/main/W8_Cifar100.ipynb\" target=\"_parent\"><img src=\"https://colab.research.google.com/assets/colab-badge.svg\" alt=\"Open In Colab\"/></a>"
      ]
    },
    {
      "cell_type": "code",
      "execution_count": null,
      "metadata": {
        "id": "GIDsi0czvWHZ"
      },
      "outputs": [],
      "source": [
        "from keras.datasets import cifar100\n",
        "import matplotlib.pyplot as plt\n",
        "from keras.models import Sequential\n",
        "from keras.layers import Dense\n",
        "from keras.utils import to_categorical #Để chuyển thành one hot encoding\n",
        "from keras.models import load_model\n",
        "import numpy as np"
      ]
    },
    {
      "cell_type": "code",
      "source": [
        "(train_images, train_labels), (test_images, test_labels) = cifar100.load_data()"
      ],
      "metadata": {
        "id": "ZkTmGccIvfyj"
      },
      "execution_count": null,
      "outputs": []
    },
    {
      "cell_type": "code",
      "source": [
        "train_images.shape, test_images.shape"
      ],
      "metadata": {
        "colab": {
          "base_uri": "https://localhost:8080/"
        },
        "id": "JX5zwOfYv2QM",
        "outputId": "79894a4c-fe3d-4246-d0f3-499b93e0c887"
      },
      "execution_count": null,
      "outputs": [
        {
          "output_type": "execute_result",
          "data": {
            "text/plain": [
              "((50000, 32, 32, 3), (10000, 32, 32, 3))"
            ]
          },
          "metadata": {},
          "execution_count": 3
        }
      ]
    },
    {
      "cell_type": "code",
      "source": [
        "train_images = train_images.reshape((50000,32*32*3)) #Chuyển về input 1 chiều\n",
        "train_images = train_images.astype('float32')/255 #Ảnh có giá trị 0-->255, Scale xuống thành 0-->1\n",
        "test_images =  test_images.reshape((10000, 32*32*3)) #Chuyển về input 1 chiều\n",
        "test_images = test_images.astype('float32')/255\n",
        "train_images.shape"
      ],
      "metadata": {
        "colab": {
          "base_uri": "https://localhost:8080/"
        },
        "id": "ozQ1OARfwAyy",
        "outputId": "78f4f033-faab-4cd6-acc4-c1072a513acf"
      },
      "execution_count": null,
      "outputs": [
        {
          "output_type": "execute_result",
          "data": {
            "text/plain": [
              "(50000, 3072)"
            ]
          },
          "metadata": {},
          "execution_count": 4
        }
      ]
    },
    {
      "cell_type": "code",
      "source": [
        "train_labels = to_categorical(train_labels) #One hot encoding\n",
        "test_labels = to_categorical(test_labels)\n",
        "print(train_labels.shape)\n",
        "print(test_labels.shape)"
      ],
      "metadata": {
        "colab": {
          "base_uri": "https://localhost:8080/"
        },
        "id": "HkW8vBpJxdHN",
        "outputId": "48ac6a41-9701-4d44-be59-acc0be7fb81d"
      },
      "execution_count": null,
      "outputs": [
        {
          "output_type": "stream",
          "name": "stdout",
          "text": [
            "(50000, 100)\n",
            "(10000, 100)\n"
          ]
        }
      ]
    },
    {
      "cell_type": "code",
      "source": [
        "model = Sequential()\n",
        "model.add(Dense(2000,input_shape=(32*32*3,), activation='relu'))\n",
        "model.add(Dense(1000, activation='relu'))\n",
        "model.add(Dense(100, activation='softmax'))\n",
        "model.summary()"
      ],
      "metadata": {
        "id": "8xuw6wbLxfsB",
        "colab": {
          "base_uri": "https://localhost:8080/"
        },
        "outputId": "7e9ce9c7-8c5b-4dc1-a159-6380641aeb34"
      },
      "execution_count": null,
      "outputs": [
        {
          "output_type": "stream",
          "name": "stdout",
          "text": [
            "Model: \"sequential_4\"\n",
            "_________________________________________________________________\n",
            " Layer (type)                Output Shape              Param #   \n",
            "=================================================================\n",
            " dense_13 (Dense)            (None, 2000)              6146000   \n",
            "                                                                 \n",
            " dense_14 (Dense)            (None, 1000)              2001000   \n",
            "                                                                 \n",
            " dense_15 (Dense)            (None, 100)               100100    \n",
            "                                                                 \n",
            "=================================================================\n",
            "Total params: 8,247,100\n",
            "Trainable params: 8,247,100\n",
            "Non-trainable params: 0\n",
            "_________________________________________________________________\n"
          ]
        }
      ]
    },
    {
      "cell_type": "code",
      "source": [
        "model.compile(optimizer=\"rmsprop\", loss=\"categorical_crossentropy\", metrics=['accuracy'])\n",
        "model.fit(train_images, train_labels, epochs=10, batch_size=128)"
      ],
      "metadata": {
        "colab": {
          "base_uri": "https://localhost:8080/"
        },
        "id": "NvgVy2hIyQSz",
        "outputId": "da7fb7f8-30bd-4061-eb0a-80861a676778"
      },
      "execution_count": null,
      "outputs": [
        {
          "output_type": "stream",
          "name": "stdout",
          "text": [
            "Epoch 1/10\n",
            "391/391 [==============================] - 60s 151ms/step - loss: 4.2874 - accuracy: 0.0686\n",
            "Epoch 2/10\n",
            "391/391 [==============================] - 59s 151ms/step - loss: 3.7214 - accuracy: 0.1323\n",
            "Epoch 3/10\n",
            "391/391 [==============================] - 58s 148ms/step - loss: 3.5397 - accuracy: 0.1650\n",
            "Epoch 4/10\n",
            "391/391 [==============================] - 58s 149ms/step - loss: 3.4040 - accuracy: 0.1897\n",
            "Epoch 5/10\n",
            "391/391 [==============================] - 59s 150ms/step - loss: 3.2920 - accuracy: 0.2109\n",
            "Epoch 6/10\n",
            "391/391 [==============================] - 57s 147ms/step - loss: 3.2002 - accuracy: 0.2256\n",
            "Epoch 7/10\n",
            "391/391 [==============================] - 58s 150ms/step - loss: 3.1171 - accuracy: 0.2437\n",
            "Epoch 8/10\n",
            "391/391 [==============================] - 57s 146ms/step - loss: 3.0296 - accuracy: 0.2593\n",
            "Epoch 9/10\n",
            "391/391 [==============================] - 59s 151ms/step - loss: 2.9537 - accuracy: 0.2746\n",
            "Epoch 10/10\n",
            "391/391 [==============================] - 58s 148ms/step - loss: 2.8780 - accuracy: 0.2872\n"
          ]
        },
        {
          "output_type": "execute_result",
          "data": {
            "text/plain": [
              "<keras.callbacks.History at 0x7f106e403ee0>"
            ]
          },
          "metadata": {},
          "execution_count": 15
        }
      ]
    },
    {
      "cell_type": "code",
      "source": [
        "acc, loss = model.evaluate(test_images, test_labels)\n",
        "print(acc)\n",
        "print(loss)"
      ],
      "metadata": {
        "colab": {
          "base_uri": "https://localhost:8080/"
        },
        "id": "6ILMjWGX4xR1",
        "outputId": "63c97dc4-5a7f-452a-c1d9-0588efdc576f"
      },
      "execution_count": null,
      "outputs": [
        {
          "output_type": "stream",
          "name": "stdout",
          "text": [
            "313/313 [==============================] - 6s 20ms/step - loss: 3.3678 - accuracy: 0.2243\n",
            "3.36780047416687\n",
            "0.22429999709129333\n"
          ]
        }
      ]
    },
    {
      "cell_type": "code",
      "source": [
        "model.save('/content/drive/MyDrive/Weight/cifar100.h5')"
      ],
      "metadata": {
        "id": "vEldaZAj5eW0"
      },
      "execution_count": null,
      "outputs": []
    },
    {
      "cell_type": "code",
      "source": [
        "model_test = load_model(\"/content/drive/MyDrive/Weight/cifar100.h5\")"
      ],
      "metadata": {
        "id": "VAluzP6J6TXg"
      },
      "execution_count": null,
      "outputs": []
    },
    {
      "cell_type": "code",
      "source": [],
      "metadata": {
        "id": "ZPUawnOK7XZ5"
      },
      "execution_count": null,
      "outputs": []
    }
  ]
}