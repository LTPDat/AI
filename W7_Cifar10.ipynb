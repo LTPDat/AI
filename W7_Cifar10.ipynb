{
  "nbformat": 4,
  "nbformat_minor": 0,
  "metadata": {
    "colab": {
      "provenance": [],
      "authorship_tag": "ABX9TyO0TEt8yGllGf+g6qS3HFXm",
      "include_colab_link": true
    },
    "kernelspec": {
      "name": "python3",
      "display_name": "Python 3"
    },
    "language_info": {
      "name": "python"
    }
  },
  "cells": [
    {
      "cell_type": "markdown",
      "metadata": {
        "id": "view-in-github",
        "colab_type": "text"
      },
      "source": [
        "<a href=\"https://colab.research.google.com/github/LTPDat/AI/blob/main/W7_Cifar10.ipynb\" target=\"_parent\"><img src=\"https://colab.research.google.com/assets/colab-badge.svg\" alt=\"Open In Colab\"/></a>"
      ]
    },
    {
      "cell_type": "code",
      "execution_count": 14,
      "metadata": {
        "id": "-pu6NNAzEO-5"
      },
      "outputs": [],
      "source": [
        "from keras.datasets import cifar10\n",
        "import matplotlib.pyplot as plt\n",
        "from keras.models import Sequential\n",
        "from keras.layers import Dense\n",
        "from keras.utils import to_categorical #Để chuyển thành one hot encoding\n",
        "from keras.models import load_model\n",
        "import numpy as np"
      ]
    },
    {
      "cell_type": "code",
      "source": [
        "(train_images, train_labels), (test_images, test_labels) = cifar10.load_data()"
      ],
      "metadata": {
        "id": "X53qRAKmEQIV",
        "colab": {
          "base_uri": "https://localhost:8080/"
        },
        "outputId": "35c95639-c0d2-4fa1-fd53-6bb0f58aa5fd"
      },
      "execution_count": 2,
      "outputs": [
        {
          "output_type": "stream",
          "name": "stdout",
          "text": [
            "Downloading data from https://www.cs.toronto.edu/~kriz/cifar-10-python.tar.gz\n",
            "170498071/170498071 [==============================] - 4s 0us/step\n"
          ]
        }
      ]
    },
    {
      "cell_type": "code",
      "source": [
        "train_images.shape, test_images.shape"
      ],
      "metadata": {
        "colab": {
          "base_uri": "https://localhost:8080/"
        },
        "id": "P1CwvhSHEo3i",
        "outputId": "3491c0b1-8822-4ff9-dede-e187cc33816c"
      },
      "execution_count": 3,
      "outputs": [
        {
          "output_type": "execute_result",
          "data": {
            "text/plain": [
              "((50000, 32, 32, 3), (10000, 32, 32, 3))"
            ]
          },
          "metadata": {},
          "execution_count": 3
        }
      ]
    },
    {
      "cell_type": "code",
      "source": [
        "hinh = train_images[100]\n",
        "plt.imshow(hinh, cmap = plt.cm.binary)\n",
        "plt.show"
      ],
      "metadata": {
        "colab": {
          "base_uri": "https://localhost:8080/",
          "height": 284
        },
        "id": "0fnUm9HQEe4t",
        "outputId": "2207e89b-23b2-497c-bb1d-152b82a39cf1"
      },
      "execution_count": 4,
      "outputs": [
        {
          "output_type": "execute_result",
          "data": {
            "text/plain": [
              "<function matplotlib.pyplot.show(close=None, block=None)>"
            ]
          },
          "metadata": {},
          "execution_count": 4
        },
        {
          "output_type": "display_data",
          "data": {
            "text/plain": [
              "<Figure size 432x288 with 1 Axes>"
            ],
            "image/png": "[encoded data removed]"
          },
          "metadata": {
            "needs_background": "light"
          }
        }
      ]
    },
    {
      "cell_type": "code",
      "source": [
        "class_names = ['airplane', 'automobile', 'bird', 'cat', 'deer',\n",
        "               'dog', 'frog', 'horse', 'ship', 'truck']"
      ],
      "metadata": {
        "id": "JmP46lvqIjqt"
      },
      "execution_count": 5,
      "outputs": []
    },
    {
      "cell_type": "code",
      "source": [
        "train_images = train_images.reshape((50000,32*32*3)) #Chuyển về input 1 chiều\n",
        "train_images = train_images.astype('float32')/255 #Ảnh có giá trị 0-->255, Scale xuống thành 0-->1\n",
        "test_images =  test_images.reshape((10000, 32*32*3)) #Chuyển về input 1 chiều\n",
        "test_images = test_images.astype('float32')/255\n",
        "train_images.shape"
      ],
      "metadata": {
        "colab": {
          "base_uri": "https://localhost:8080/"
        },
        "id": "lKl4V38NFLbP",
        "outputId": "1e662b73-ab1b-4d13-df5b-b9d7f3d68a72"
      },
      "execution_count": 7,
      "outputs": [
        {
          "output_type": "execute_result",
          "data": {
            "text/plain": [
              "(50000, 3072)"
            ]
          },
          "metadata": {},
          "execution_count": 7
        }
      ]
    },
    {
      "cell_type": "code",
      "source": [
        "train_labels = to_categorical(train_labels, 10) #One hot encoding\n",
        "test_labels = to_categorical(test_labels, 10)\n",
        "print(train_labels.shape)\n",
        "print(test_labels.shape)"
      ],
      "metadata": {
        "colab": {
          "base_uri": "https://localhost:8080/"
        },
        "id": "y6S0l0o-HAku",
        "outputId": "20e7a25c-963b-412e-b51b-7f261ce7d3e7"
      },
      "execution_count": 8,
      "outputs": [
        {
          "output_type": "stream",
          "name": "stdout",
          "text": [
            "(50000, 10)\n",
            "(10000, 10)\n"
          ]
        }
      ]
    },
    {
      "cell_type": "code",
      "source": [
        "model = Sequential()\n",
        "model.add(Dense(512,input_shape = (32*32*3,), activation='relu', name=\"Layer_1\"))\n",
        "model.add(Dense(256, activation='relu', name=\"Layer_2\"))\n",
        "model.add(Dense(128, activation='relu', name=\"Layer_3\"))\n",
        "model.add(Dense(64, activation='relu', name=\"Layer_4\"))\n",
        "model.add(Dense(10,activation='softmax', name = \"Output_layer\"))\n",
        "print(model.summary())"
      ],
      "metadata": {
        "colab": {
          "base_uri": "https://localhost:8080/"
        },
        "id": "sJX4Yr9jEz7W",
        "outputId": "3b1e412c-a511-4ab5-efda-3ef42b5d1531"
      },
      "execution_count": 10,
      "outputs": [
        {
          "output_type": "stream",
          "name": "stdout",
          "text": [
            "Model: \"sequential_1\"\n",
            "_________________________________________________________________\n",
            " Layer (type)                Output Shape              Param #   \n",
            "=================================================================\n",
            " Layer_1 (Dense)             (None, 512)               1573376   \n",
            "                                                                 \n",
            " Layer_2 (Dense)             (None, 256)               131328    \n",
            "                                                                 \n",
            " Layer_3 (Dense)             (None, 128)               32896     \n",
            "                                                                 \n",
            " Layer_4 (Dense)             (None, 64)                8256      \n",
            "                                                                 \n",
            " Output_layer (Dense)        (None, 10)                650       \n",
            "                                                                 \n",
            "=================================================================\n",
            "Total params: 1,746,506\n",
            "Trainable params: 1,746,506\n",
            "Non-trainable params: 0\n",
            "_________________________________________________________________\n",
            "None\n"
          ]
        }
      ]
    },
    {
      "cell_type": "code",
      "source": [
        "model.compile(optimizer='rmsprop', loss='categorical_crossentropy',metrics=['accuracy'])\n",
        "model.fit(train_images, train_labels, epochs=10, batch_size=128)"
      ],
      "metadata": {
        "colab": {
          "base_uri": "https://localhost:8080/"
        },
        "id": "-ZfKH9w6HQ4y",
        "outputId": "01172ca7-81b7-42c9-f72f-1ccf228286ba"
      },
      "execution_count": 11,
      "outputs": [
        {
          "output_type": "stream",
          "name": "stdout",
          "text": [
            "Epoch 1/10\n",
            "391/391 [==============================] - 16s 37ms/step - loss: 2.0553 - accuracy: 0.2478\n",
            "Epoch 2/10\n",
            "391/391 [==============================] - 15s 38ms/step - loss: 1.8062 - accuracy: 0.3484\n",
            "Epoch 3/10\n",
            "391/391 [==============================] - 15s 38ms/step - loss: 1.7012 - accuracy: 0.3915\n",
            "Epoch 4/10\n",
            "391/391 [==============================] - 15s 38ms/step - loss: 1.6373 - accuracy: 0.4147\n",
            "Epoch 5/10\n",
            "391/391 [==============================] - 17s 43ms/step - loss: 1.5841 - accuracy: 0.4337\n",
            "Epoch 6/10\n",
            "391/391 [==============================] - 14s 37ms/step - loss: 1.5488 - accuracy: 0.4463\n",
            "Epoch 7/10\n",
            "391/391 [==============================] - 14s 36ms/step - loss: 1.5094 - accuracy: 0.4622\n",
            "Epoch 8/10\n",
            "391/391 [==============================] - 14s 35ms/step - loss: 1.4756 - accuracy: 0.4716\n",
            "Epoch 9/10\n",
            "391/391 [==============================] - 14s 36ms/step - loss: 1.4507 - accuracy: 0.4816\n",
            "Epoch 10/10\n",
            "391/391 [==============================] - 17s 43ms/step - loss: 1.4197 - accuracy: 0.4931\n"
          ]
        },
        {
          "output_type": "execute_result",
          "data": {
            "text/plain": [
              "<keras.callbacks.History at 0x7f4111fe51f0>"
            ]
          },
          "metadata": {},
          "execution_count": 11
        }
      ]
    },
    {
      "cell_type": "code",
      "source": [
        "model.fit(train_images, train_labels, epochs=20, batch_size=256)"
      ],
      "metadata": {
        "colab": {
          "base_uri": "https://localhost:8080/"
        },
        "id": "WXoeZbA2QDId",
        "outputId": "eced43c1-bc75-49d0-b19e-861b9f6ffaf5"
      },
      "execution_count": 12,
      "outputs": [
        {
          "output_type": "stream",
          "name": "stdout",
          "text": [
            "Epoch 1/20\n",
            "196/196 [==============================] - 12s 59ms/step - loss: 1.3625 - accuracy: 0.5121\n",
            "Epoch 2/20\n",
            "196/196 [==============================] - 11s 54ms/step - loss: 1.3470 - accuracy: 0.5190\n",
            "Epoch 3/20\n",
            "196/196 [==============================] - 11s 56ms/step - loss: 1.3197 - accuracy: 0.5282\n",
            "Epoch 4/20\n",
            "196/196 [==============================] - 12s 60ms/step - loss: 1.3026 - accuracy: 0.5326\n",
            "Epoch 5/20\n",
            "196/196 [==============================] - 11s 56ms/step - loss: 1.2803 - accuracy: 0.5439\n",
            "Epoch 6/20\n",
            "196/196 [==============================] - 11s 57ms/step - loss: 1.2597 - accuracy: 0.5512\n",
            "Epoch 7/20\n",
            "196/196 [==============================] - 11s 56ms/step - loss: 1.2469 - accuracy: 0.5546\n",
            "Epoch 8/20\n",
            "196/196 [==============================] - 11s 56ms/step - loss: 1.2246 - accuracy: 0.5608\n",
            "Epoch 9/20\n",
            "196/196 [==============================] - 10s 50ms/step - loss: 1.2104 - accuracy: 0.5668\n",
            "Epoch 10/20\n",
            "196/196 [==============================] - 11s 57ms/step - loss: 1.1933 - accuracy: 0.5714\n",
            "Epoch 11/20\n",
            "196/196 [==============================] - 11s 57ms/step - loss: 1.1731 - accuracy: 0.5810\n",
            "Epoch 12/20\n",
            "196/196 [==============================] - 11s 58ms/step - loss: 1.1625 - accuracy: 0.5833\n",
            "Epoch 13/20\n",
            "196/196 [==============================] - 15s 74ms/step - loss: 1.1404 - accuracy: 0.5918\n",
            "Epoch 14/20\n",
            "196/196 [==============================] - 11s 57ms/step - loss: 1.1235 - accuracy: 0.5959\n",
            "Epoch 15/20\n",
            "196/196 [==============================] - 11s 57ms/step - loss: 1.1061 - accuracy: 0.6029\n",
            "Epoch 16/20\n",
            "196/196 [==============================] - 11s 58ms/step - loss: 1.0881 - accuracy: 0.6089\n",
            "Epoch 17/20\n",
            "196/196 [==============================] - 10s 53ms/step - loss: 1.0745 - accuracy: 0.6127\n",
            "Epoch 18/20\n",
            "196/196 [==============================] - 11s 58ms/step - loss: 1.0584 - accuracy: 0.6195\n",
            "Epoch 19/20\n",
            "196/196 [==============================] - 11s 57ms/step - loss: 1.0415 - accuracy: 0.6271\n",
            "Epoch 20/20\n",
            "196/196 [==============================] - 11s 56ms/step - loss: 1.0274 - accuracy: 0.6306\n"
          ]
        },
        {
          "output_type": "execute_result",
          "data": {
            "text/plain": [
              "<keras.callbacks.History at 0x7f41217d8910>"
            ]
          },
          "metadata": {},
          "execution_count": 12
        }
      ]
    },
    {
      "cell_type": "code",
      "source": [
        "model.fit(train_images, train_labels, epochs=20, batch_size=256)"
      ],
      "metadata": {
        "colab": {
          "base_uri": "https://localhost:8080/"
        },
        "id": "Imj3q5necf3G",
        "outputId": "36e03c03-9a1b-406c-e664-e385a2871826"
      },
      "execution_count": 13,
      "outputs": [
        {
          "output_type": "stream",
          "name": "stdout",
          "text": [
            "Epoch 1/20\n",
            "196/196 [==============================] - 11s 55ms/step - loss: 1.0127 - accuracy: 0.6362\n",
            "Epoch 2/20\n",
            "196/196 [==============================] - 11s 56ms/step - loss: 0.9933 - accuracy: 0.6411\n",
            "Epoch 3/20\n",
            "196/196 [==============================] - 11s 56ms/step - loss: 0.9803 - accuracy: 0.6476\n",
            "Epoch 4/20\n",
            "196/196 [==============================] - 11s 55ms/step - loss: 0.9634 - accuracy: 0.6519\n",
            "Epoch 5/20\n",
            "196/196 [==============================] - 11s 54ms/step - loss: 0.9521 - accuracy: 0.6559\n",
            "Epoch 6/20\n",
            "196/196 [==============================] - 10s 51ms/step - loss: 0.9346 - accuracy: 0.6617\n",
            "Epoch 7/20\n",
            "196/196 [==============================] - 11s 55ms/step - loss: 0.9243 - accuracy: 0.6654\n",
            "Epoch 8/20\n",
            "196/196 [==============================] - 11s 56ms/step - loss: 0.9090 - accuracy: 0.6731\n",
            "Epoch 9/20\n",
            "196/196 [==============================] - 11s 56ms/step - loss: 0.8973 - accuracy: 0.6749\n",
            "Epoch 10/20\n",
            "196/196 [==============================] - 11s 56ms/step - loss: 0.8856 - accuracy: 0.6807\n",
            "Epoch 11/20\n",
            "196/196 [==============================] - 10s 50ms/step - loss: 0.8729 - accuracy: 0.6851\n",
            "Epoch 12/20\n",
            "196/196 [==============================] - 11s 55ms/step - loss: 0.8564 - accuracy: 0.6879\n",
            "Epoch 13/20\n",
            "196/196 [==============================] - 11s 55ms/step - loss: 0.8459 - accuracy: 0.6958\n",
            "Epoch 14/20\n",
            "196/196 [==============================] - 11s 56ms/step - loss: 0.8323 - accuracy: 0.6980\n",
            "Epoch 15/20\n",
            "196/196 [==============================] - 11s 56ms/step - loss: 0.8256 - accuracy: 0.7009\n",
            "Epoch 16/20\n",
            "196/196 [==============================] - 11s 54ms/step - loss: 0.8104 - accuracy: 0.7069\n",
            "Epoch 17/20\n",
            "196/196 [==============================] - 10s 51ms/step - loss: 0.7935 - accuracy: 0.7141\n",
            "Epoch 18/20\n",
            "196/196 [==============================] - 11s 56ms/step - loss: 0.7831 - accuracy: 0.7157\n",
            "Epoch 19/20\n",
            "196/196 [==============================] - 11s 56ms/step - loss: 0.7771 - accuracy: 0.7186\n",
            "Epoch 20/20\n",
            "196/196 [==============================] - 11s 59ms/step - loss: 0.7674 - accuracy: 0.7240\n"
          ]
        },
        {
          "output_type": "execute_result",
          "data": {
            "text/plain": [
              "<keras.callbacks.History at 0x7f41217fa490>"
            ]
          },
          "metadata": {},
          "execution_count": 13
        }
      ]
    },
    {
      "cell_type": "code",
      "source": [
        "model.fit(train_images, train_labels, epochs=20, batch_size=256)"
      ],
      "metadata": {
        "colab": {
          "base_uri": "https://localhost:8080/"
        },
        "id": "U6Ds12VEfJGo",
        "outputId": "f774dbd0-66dc-4685-b165-1dab148c9b65"
      },
      "execution_count": 19,
      "outputs": [
        {
          "output_type": "stream",
          "name": "stdout",
          "text": [
            "Epoch 1/20\n",
            "196/196 [==============================] - 11s 58ms/step - loss: 0.7484 - accuracy: 0.7289\n",
            "Epoch 2/20\n",
            "196/196 [==============================] - 11s 57ms/step - loss: 0.7445 - accuracy: 0.7311\n",
            "Epoch 3/20\n",
            "196/196 [==============================] - 14s 69ms/step - loss: 0.7340 - accuracy: 0.7372\n",
            "Epoch 4/20\n",
            "196/196 [==============================] - 12s 61ms/step - loss: 0.7262 - accuracy: 0.7392\n",
            "Epoch 5/20\n",
            "196/196 [==============================] - 11s 58ms/step - loss: 0.7151 - accuracy: 0.7413\n",
            "Epoch 6/20\n",
            "196/196 [==============================] - 12s 60ms/step - loss: 0.6993 - accuracy: 0.7464\n",
            "Epoch 7/20\n",
            "196/196 [==============================] - 12s 59ms/step - loss: 0.6914 - accuracy: 0.7494\n",
            "Epoch 8/20\n",
            "196/196 [==============================] - 13s 67ms/step - loss: 0.6864 - accuracy: 0.7519\n",
            "Epoch 9/20\n",
            "196/196 [==============================] - 12s 62ms/step - loss: 0.6748 - accuracy: 0.7571\n",
            "Epoch 10/20\n",
            "196/196 [==============================] - 11s 55ms/step - loss: 0.6694 - accuracy: 0.7581\n",
            "Epoch 11/20\n",
            "196/196 [==============================] - 12s 60ms/step - loss: 0.6576 - accuracy: 0.7629\n",
            "Epoch 12/20\n",
            "196/196 [==============================] - 12s 60ms/step - loss: 0.6519 - accuracy: 0.7639\n",
            "Epoch 13/20\n",
            "196/196 [==============================] - 12s 60ms/step - loss: 0.6415 - accuracy: 0.7666\n",
            "Epoch 14/20\n",
            "196/196 [==============================] - 12s 60ms/step - loss: 0.6318 - accuracy: 0.7716\n",
            "Epoch 15/20\n",
            "196/196 [==============================] - 12s 60ms/step - loss: 0.6319 - accuracy: 0.7703\n",
            "Epoch 16/20\n",
            "196/196 [==============================] - 11s 58ms/step - loss: 0.6174 - accuracy: 0.7769\n",
            "Epoch 17/20\n",
            "196/196 [==============================] - 11s 57ms/step - loss: 0.6109 - accuracy: 0.7795\n",
            "Epoch 18/20\n",
            "196/196 [==============================] - 11s 56ms/step - loss: 0.5991 - accuracy: 0.7830\n",
            "Epoch 19/20\n",
            "196/196 [==============================] - 12s 59ms/step - loss: 0.5954 - accuracy: 0.7845\n",
            "Epoch 20/20\n",
            "196/196 [==============================] - 12s 59ms/step - loss: 0.5852 - accuracy: 0.7903\n"
          ]
        },
        {
          "output_type": "execute_result",
          "data": {
            "text/plain": [
              "<keras.callbacks.History at 0x7f4110b835b0>"
            ]
          },
          "metadata": {},
          "execution_count": 19
        }
      ]
    },
    {
      "cell_type": "code",
      "source": [
        "model.fit(train_images, train_labels, epochs=20, batch_size=256)"
      ],
      "metadata": {
        "colab": {
          "base_uri": "https://localhost:8080/"
        },
        "id": "8Uvo6PLwhTJB",
        "outputId": "f628d8d1-1ce5-4a99-b9d6-19b872f70f69"
      },
      "execution_count": 27,
      "outputs": [
        {
          "output_type": "stream",
          "name": "stdout",
          "text": [
            "Epoch 1/20\n",
            "196/196 [==============================] - 10s 52ms/step - loss: 0.5808 - accuracy: 0.7895\n",
            "Epoch 2/20\n",
            "196/196 [==============================] - 11s 56ms/step - loss: 0.5772 - accuracy: 0.7914\n",
            "Epoch 3/20\n",
            "196/196 [==============================] - 11s 56ms/step - loss: 0.5699 - accuracy: 0.7956\n",
            "Epoch 4/20\n",
            "196/196 [==============================] - 11s 56ms/step - loss: 0.5606 - accuracy: 0.7990\n",
            "Epoch 5/20\n",
            "196/196 [==============================] - 11s 57ms/step - loss: 0.5578 - accuracy: 0.7992\n",
            "Epoch 6/20\n",
            "196/196 [==============================] - 10s 53ms/step - loss: 0.5570 - accuracy: 0.7994\n",
            "Epoch 7/20\n",
            "196/196 [==============================] - 10s 53ms/step - loss: 0.5418 - accuracy: 0.8051\n",
            "Epoch 8/20\n",
            "196/196 [==============================] - 11s 57ms/step - loss: 0.5444 - accuracy: 0.8061\n",
            "Epoch 9/20\n",
            "196/196 [==============================] - 11s 56ms/step - loss: 0.5312 - accuracy: 0.8097\n",
            "Epoch 10/20\n",
            "196/196 [==============================] - 11s 58ms/step - loss: 0.5316 - accuracy: 0.8071\n",
            "Epoch 11/20\n",
            "196/196 [==============================] - 11s 58ms/step - loss: 0.5236 - accuracy: 0.8110\n",
            "Epoch 12/20\n",
            "196/196 [==============================] - 11s 54ms/step - loss: 0.5192 - accuracy: 0.8131\n",
            "Epoch 13/20\n",
            "196/196 [==============================] - 10s 52ms/step - loss: 0.5137 - accuracy: 0.8158\n",
            "Epoch 14/20\n",
            "196/196 [==============================] - 11s 58ms/step - loss: 0.5114 - accuracy: 0.8176\n",
            "Epoch 15/20\n",
            "196/196 [==============================] - 11s 58ms/step - loss: 0.4972 - accuracy: 0.8221\n",
            "Epoch 16/20\n",
            "196/196 [==============================] - 11s 57ms/step - loss: 0.4944 - accuracy: 0.8224\n",
            "Epoch 17/20\n",
            "196/196 [==============================] - 11s 57ms/step - loss: 0.4874 - accuracy: 0.8269\n",
            "Epoch 18/20\n",
            "196/196 [==============================] - 11s 58ms/step - loss: 0.4829 - accuracy: 0.8279\n",
            "Epoch 19/20\n",
            "196/196 [==============================] - 10s 50ms/step - loss: 0.4778 - accuracy: 0.8293\n",
            "Epoch 20/20\n",
            "196/196 [==============================] - 11s 56ms/step - loss: 0.4798 - accuracy: 0.8281\n"
          ]
        },
        {
          "output_type": "execute_result",
          "data": {
            "text/plain": [
              "<keras.callbacks.History at 0x7f4110d77a30>"
            ]
          },
          "metadata": {},
          "execution_count": 27
        }
      ]
    },
    {
      "cell_type": "code",
      "source": [
        "x_sample = test_images[20:35]\n",
        "pred = np.argmax(model.predict(x_sample), axis=-1)\n",
        "x_sample = np.reshape(x_sample, (15,32, 32,3))\n",
        "class_name = [\"airplane\",\"automobile\",\"bird\",\"cat\",\"deer\",\"dog\",\"frog\",\"horse\",\"ship\",\"truck\"]\n",
        "for i in range(15):\n",
        "  plt.subplot(3,5,i+1)\n",
        "  plt.tight_layout()\n",
        "  plt.imshow(x_sample[i], cmap='gray', interpolation='none')\n",
        "  plt.title('{}'.format(class_name[pred[i]]))\n",
        "  plt.xticks([])\n",
        "  plt.yticks([])"
      ],
      "metadata": {
        "colab": {
          "base_uri": "https://localhost:8080/",
          "height": 288
        },
        "id": "ZZCADxrydbvh",
        "outputId": "70b6c47c-6101-46b0-bb44-8acafd0d0f25"
      },
      "execution_count": 28,
      "outputs": [
        {
          "output_type": "stream",
          "name": "stdout",
          "text": [
            "1/1 [==============================] - 0s 34ms/step\n"
          ]
        },
        {
          "output_type": "display_data",
          "data": {
            "text/plain": [
              "<Figure size 432x288 with 15 Axes>"
            ],
            "image/png": "[encoded data removed]"
          },
          "metadata": {}
        }
      ]
    }
  ]
}