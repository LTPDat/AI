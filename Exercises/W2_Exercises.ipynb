{
  "nbformat": 4,
  "nbformat_minor": 0,
  "metadata": {
    "colab": {
      "provenance": [],
      "authorship_tag": "ABX9TyO/fB2GXwuDki2zNRSDNRwh",
      "include_colab_link": true
    },
    "kernelspec": {
      "name": "python3",
      "display_name": "Python 3"
    },
    "language_info": {
      "name": "python"
    }
  },
  "cells": [
    {
      "cell_type": "markdown",
      "metadata": {
        "id": "view-in-github",
        "colab_type": "text"
      },
      "source": [
        "<a href=\"https://colab.research.google.com/github/LTPDat/AI/blob/main/Exercises/W2_Exercises.ipynb\" target=\"_parent\"><img src=\"https://colab.research.google.com/assets/colab-badge.svg\" alt=\"Open In Colab\"/></a>"
      ]
    },
    {
      "cell_type": "code",
      "execution_count": null,
      "metadata": {
        "colab": {
          "base_uri": "https://localhost:8080/"
        },
        "id": "I6YLBAyO3XCb",
        "outputId": "807239fe-a1e9-44df-8fdc-5fc250634454"
      },
      "outputs": [
        {
          "output_type": "stream",
          "name": "stdout",
          "text": [
            "So luong huy chuong vang cua CAN la: 38\n",
            "So luong huy chuong vang theo mon thi ca nhan la: 65\n"
          ]
        }
      ],
      "source": [
        "import pandas as pd\n",
        "url = 'http://winterolympicsmedals.com/medals.csv'\n",
        "data = pd.read_csv(url)\n",
        "print(\"So luong huy chuong vang cua CAN la:\", len(data[(data['Medal']=='Gold')&(data['NOC']=='CAN')]))\n",
        "print(\"So luong huy chuong vang theo mon thi ca nhan la:\", len(data[(data['Medal']=='Gold')&(data['Event']=='individual')]))"
      ]
    }
  ]
}